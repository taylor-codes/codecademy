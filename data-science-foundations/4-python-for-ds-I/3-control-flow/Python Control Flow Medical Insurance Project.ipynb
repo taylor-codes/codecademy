{
 "cells": [
  {
   "cell_type": "markdown",
   "id": "71ee3211",
   "metadata": {},
   "source": [
    "# Python Control Flow: Medical Insurance Project"
   ]
  },
  {
   "cell_type": "markdown",
   "id": "c12d35ab",
   "metadata": {},
   "source": [
    "In this project, you will examine how factors such as age, sex, BMI, number of children, and smoking status contribute to medical insurance costs.\n",
    "\n",
    "You will apply your knowledge of Python control flow to write code that gives people advice on how to lower their medical insurance costs.\n",
    "\n",
    "Let's get started!"
   ]
  },
  {
   "cell_type": "markdown",
   "id": "94963386",
   "metadata": {},
   "source": [
    "## Intro to Control Flow"
   ]
  },
  {
   "cell_type": "markdown",
   "id": "61e29728",
   "metadata": {},
   "source": [
    "1. First, take a look at the code in the code block below.\n",
    "\n",
    "   The function `estimate_insurance_cost()` estimates the medical insurance cost for an individual, based on five variables:\n",
    "   - `age`: age of the individual in years\n",
    "   - `sex`: 0 for female, 1 if male\n",
    "   - `bmi`: individual's body mass index\n",
    "   - `num_of_children`: number of children the individual has\n",
    "   - `smoker`: 0 for a non-smoker, 1 for a smoker\n",
    "   \n",
    "   These variables are used in the following formula to estimate an individual's insurance cost:\n",
    "   \n",
    "   $$\n",
    "   insurance\\_cost = 250*age - 128*sex + 370*bmi + 425*num\\_of\\_children + 24000*smoker - 12500\n",
    "   $$\n",
    "   \n",
    "   Take a look below the code at the estimated insurance cost for Keanu, a 29-year-old male smoker with three children and a BMI of 26.2."
   ]
  },
  {
   "cell_type": "code",
   "execution_count": 1,
   "id": "9312c978",
   "metadata": {},
   "outputs": [
    {
     "name": "stdout",
     "output_type": "stream",
     "text": [
      "Keanu's Estimated Insurance Cost: 29591.0 dollars.\n"
     ]
    }
   ],
   "source": [
    "# Function to estimate insurance cost:\n",
    "def estimate_insurance_cost(name, age, sex, bmi, num_of_children, smoker):\n",
    "    estimated_cost = 250*age - 128*sex + 370*bmi + 425*num_of_children + 24000*smoker - 12500\n",
    "    print(name + \"'s Estimated Insurance Cost: \" + str(estimated_cost) + \" dollars.\")\n",
    "    return estimated_cost\n",
    "\n",
    "# Estimate Keanu's insurance cost\n",
    "keanu_insurance_cost = estimate_insurance_cost(name = 'Keanu', age = 29, sex = 1, bmi = 26.2, num_of_children = 3, smoker = 1)"
   ]
  },
  {
   "cell_type": "markdown",
   "id": "f54c47b0",
   "metadata": {},
   "source": [
    "2. Currently, our function prints out the estimated insurance cost based on values passed into the function. But it doesn't do much beyond that.\n",
    "\n",
    "   It would be much more helpful if our function could provide more insight into how we can lower our insurance cost. We'll learn to do exactly that by using control flow - `if`, `elif`, and `else` statements - in our code.\n",
    "   \n",
    "   When you're ready, move on to the next step."
   ]
  },
  {
   "cell_type": "code",
   "execution_count": null,
   "id": "98811be7",
   "metadata": {},
   "outputs": [],
   "source": []
  },
  {
   "cell_type": "markdown",
   "id": "49710454",
   "metadata": {},
   "source": [
    "## Analyzing Smoker Status"
   ]
  },
  {
   "cell_type": "markdown",
   "id": "318d163c",
   "metadata": {},
   "source": [
    "3. In general, insurance costs are higher for smokers as well as people with a higher BMI. We can use the data from the variables `smoker` and `bmi` to provide advice on how to lower insurance costs.\n",
    "\n",
    "   We'll first create a function that analyzes an individual's smoking status.\n",
    "   \n",
    "   In the code block below, define a function called `analyze_smoker()` that takes an input `smoker_status`. For now, the function should print `smoker_status`."
   ]
  },
  {
   "cell_type": "code",
   "execution_count": 1,
   "id": "4a70bd1d",
   "metadata": {},
   "outputs": [],
   "source": [
    "def analyze_smoker(smoker_status):\n",
    "    print(smoker_status)"
   ]
  },
  {
   "cell_type": "markdown",
   "id": "b29e6084",
   "metadata": {},
   "source": [
    "4. Inside of the `analyze_smoker()` function, replace the print statement you wrote in the previous step with an `if/else` statement that does the following:\n",
    "   - If `smoker_status` is equal to `1`, print `\"To lower your cost, you should consider quitting smoking.\"`\n",
    "   - Otherwise, print `\"Smoking is not an issue for you.\"`"
   ]
  },
  {
   "cell_type": "code",
   "execution_count": 2,
   "id": "65c2c04f",
   "metadata": {},
   "outputs": [],
   "source": [
    "def analyze_smoker(smoker_status):\n",
    "    if smoker_status == 1:\n",
    "        print(\"To lower your cost, you should consider quitting smoking.\")\n",
    "    else:\n",
    "        print(\"Smoking is not an issue for you.\")"
   ]
  },
  {
   "cell_type": "markdown",
   "id": "7d86ede1",
   "metadata": {},
   "source": [
    "5. Now that we've written the `analyze_smoker()` function, let's make use of it.\n",
    " \n",
    "   In the `estimate_insurance_cost()` function, go to the line of code that prints the estimated insurance cost. On the next line, make a function call to `analyze_smoker()`, passing in the `smoker` variable as an argument.\n",
    "   \n",
    "   Run the code to see the result."
   ]
  },
  {
   "cell_type": "code",
   "execution_count": 3,
   "id": "2c34235e",
   "metadata": {},
   "outputs": [
    {
     "name": "stdout",
     "output_type": "stream",
     "text": [
      "Keanu's Estimated Insurance Cost: 29591.0 dollars.\n",
      "To lower your cost, you should consider quitting smoking.\n"
     ]
    }
   ],
   "source": [
    "# Function to estimate insurance cost:\n",
    "def estimate_insurance_cost(name, age, sex, bmi, num_of_children, smoker):\n",
    "    estimated_cost = 250*age - 128*sex + 370*bmi + 425*num_of_children + 24000*smoker - 12500\n",
    "    print(name + \"'s Estimated Insurance Cost: \" + str(estimated_cost) + \" dollars.\")\n",
    "    # make function call to `analyze_smoker()` here\n",
    "    analyze_smoker(smoker)\n",
    "    return estimated_cost\n",
    "\n",
    "# Estimate Keanu's insurance cost\n",
    "keanu_insurance_cost = estimate_insurance_cost(name = 'Keanu', age = 29, sex = 1, bmi = 26.2, num_of_children = 3, smoker = 1)"
   ]
  },
  {
   "cell_type": "markdown",
   "id": "c63d97a9",
   "metadata": {},
   "source": [
    "## Analyzing BMI"
   ]
  },
  {
   "cell_type": "markdown",
   "id": "8fdb3de2",
   "metadata": {},
   "source": [
    "6. Great job - you've created a simple function that notifies an individual if their insurance cost can be lowered by altering their smoking habits.\n",
    "\n",
    "   Next, create a function that analyzes an individual's BMI (body mass index).\n",
    "   \n",
    "   Define a function below called `analyze_bmi()` that takes an input `bmi_value`. For now, the function should print `bmi_value`."
   ]
  },
  {
   "cell_type": "code",
   "execution_count": 4,
   "id": "0539c460",
   "metadata": {},
   "outputs": [],
   "source": [
    "def analyze_bmi(bmi_value):\n",
    "    print(bmi_value)"
   ]
  },
  {
   "cell_type": "markdown",
   "id": "ac444e2f",
   "metadata": {},
   "source": [
    "7. Inside of this function we'll want to notify an individual whether their BMI can be improved, printing a personalized message based on the `bmi_value` passed in.\n",
    "\n",
    "   According to the WHO (World Health Organization), here are the nutritional statuses for various BMI ranges:\n",
    "   - `BMI > 30:` obese\n",
    "   - `BMI >= 25 and BMI <= 30:` overweight\n",
    "   - `BMI >= 18.5 and BMI < 25:` normal weight\n",
    "   - `BMI < 18.5:` underweight\n",
    "   \n",
    "   Remove the print statement from the previous step and write code using `if`, `elif`, and `else` statements representing each of the following cases:\n",
    "   - `bmi_value > 30`: \"Your BMI is in the obese range. To lower your cost, you should significantly lower your BMI.\"\n",
    "   - `bmi_value >= 25 and bmi_value <= 30`: \"Your BMI is in the overweight range. To lower your cost, you should lower your BMI.\"\n",
    "   - `bmi_value >= 18.5 and bmi_value < 25`: \"Your BMI is in a healthy range.\"\n",
    "   - `bmi_value < 18.5`: \"Your BMI is in the underweight range. Increasing your BMI will not help lower your cost, but it will help improve your health.\""
   ]
  },
  {
   "cell_type": "code",
   "execution_count": 5,
   "id": "2eb58bd5",
   "metadata": {},
   "outputs": [],
   "source": [
    "def analyze_bmi(bmi_value):\n",
    "    if bmi_value > 30:\n",
    "        print(\"Your BMI is in the obese range. To lower your cost, you should significantly lower your BMI.\")\n",
    "    elif bmi_value >= 25 and bmi_value <= 30:\n",
    "        print(\"Your BMI is in the overweight range. To lower your cost, you should lower your BMI.\")\n",
    "    elif bmi_value >= 18.5 and bmi_value < 25:\n",
    "        print(\"Your BMI is in a healthy range.\")\n",
    "    elif bmi_value < 18.5:\n",
    "        print(\"Your BMI is in the underweight range. Increasing your BMI will not help lower your cost, but it will help improve your health.\")\n",
    "    else:\n",
    "        print(\"BMI out of range.\")"
   ]
  },
  {
   "cell_type": "markdown",
   "id": "d9c0f90e",
   "metadata": {},
   "source": [
    "8. We now have a function that provides an individual guidance on how to lower their insurance cost by adjusting their BMI. Let's test this out!\n",
    "\n",
    "   In the `estimate_insurance_cost()` function, under the line of code that calls the `analyze_smoker()` function, make a function call to `analyze_bmi()`, passing in the `bmi` variable as an argument.\n",
    "   \n",
    "   Run the code to see the result.\n",
    "   \n",
    "   Notice that now Keanu gets much more insight into actions he can take to lower his insurance cost. Keanu should consider quitting smoking and lowering his BMI if he wants to lower his medical insurance costs."
   ]
  },
  {
   "cell_type": "code",
   "execution_count": 6,
   "id": "974379d9",
   "metadata": {},
   "outputs": [
    {
     "name": "stdout",
     "output_type": "stream",
     "text": [
      "Keanu's Estimated Insurance Cost: 29591.0 dollars.\n",
      "To lower your cost, you should consider quitting smoking.\n",
      "Your BMI is in the overweight range. To lower your cost, you should lower your BMI.\n"
     ]
    }
   ],
   "source": [
    "# Function to estimate insurance cost:\n",
    "def estimate_insurance_cost(name, age, sex, bmi, num_of_children, smoker):\n",
    "    estimated_cost = 250*age - 128*sex + 370*bmi + 425*num_of_children + 24000*smoker - 12500\n",
    "    print(name + \"'s Estimated Insurance Cost: \" + str(estimated_cost) + \" dollars.\")\n",
    "    # make function call to `analyze_smoker()` here\n",
    "    analyze_smoker(smoker)\n",
    "    # make function call to `analyze_bmi()` here\n",
    "    analyze_bmi(bmi)\n",
    "    return estimated_cost\n",
    "\n",
    "# Estimate Keanu's insurance cost\n",
    "keanu_insurance_cost = estimate_insurance_cost(name = 'Keanu', age = 29, sex = 1, bmi = 26.2, num_of_children = 3, smoker = 1)"
   ]
  }
 ],
 "metadata": {
  "kernelspec": {
   "display_name": "Python 3.10.6 64-bit",
   "language": "python",
   "name": "python3"
  },
  "language_info": {
   "codemirror_mode": {
    "name": "ipython",
    "version": 3
   },
   "file_extension": ".py",
   "mimetype": "text/x-python",
   "name": "python",
   "nbconvert_exporter": "python",
   "pygments_lexer": "ipython3",
   "version": "3.10.6"
  },
  "vscode": {
   "interpreter": {
    "hash": "916dbcbb3f70747c44a77c7bcd40155683ae19c65e1c03b4aa3499c5328201f1"
   }
  }
 },
 "nbformat": 4,
 "nbformat_minor": 5
}
