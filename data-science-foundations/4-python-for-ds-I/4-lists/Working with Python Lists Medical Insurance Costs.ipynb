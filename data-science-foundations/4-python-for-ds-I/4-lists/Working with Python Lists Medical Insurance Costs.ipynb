{
 "cells": [
  {
   "cell_type": "markdown",
   "id": "3d8b0184",
   "metadata": {},
   "source": [
    "# Working with Python Lists: Medical Insurance Costs Project"
   ]
  },
  {
   "cell_type": "markdown",
   "id": "b124b501",
   "metadata": {},
   "source": [
    "You are a doctor sorting through medical insurance cost data for some patients.\n",
    "\n",
    "Using your knowledge of Python lists, you will store medical data and see what valuable insights you can gain from that data.\n",
    "\n",
    "Let's get started!"
   ]
  },
  {
   "cell_type": "markdown",
   "id": "3967696d",
   "metadata": {},
   "source": [
    "## Exploring List Data"
   ]
  },
  {
   "cell_type": "markdown",
   "id": "5c1ed983",
   "metadata": {},
   "source": [
    "1. First, take a look at the two lists in the code block below.\n",
    "\n",
    "   The list `names` stores the names of ten individuals, and `insurance_costs` stores their medical insurance costs.\n",
    "   \n",
    "   Let's add additional data to these lists:\n",
    "   - Append a new individual, `\"Priscilla\"`, to `names`.\n",
    "   - Append her insurance cost, `8320.0` to `insurance_costs`."
   ]
  },
  {
   "cell_type": "code",
   "execution_count": 1,
   "id": "b49d92da",
   "metadata": {},
   "outputs": [],
   "source": [
    "names = [\"Mohamed\", \"Sara\", \"Xia\", \"Paul\", \"Valentina\", \"Jide\", \"Aaron\", \"Emily\", \"Nikita\", \"Paul\"]\n",
    "insurance_costs = [13262.0, 4816.0, 6839.0, 5054.0, 14724.0, 5360.0, 7640.0, 6072.0, 2750.0, 12064.0]\n",
    "\n",
    "names.append(\"Priscilla\")\n",
    "insurance_costs.append(8320.0)"
   ]
  },
  {
   "cell_type": "markdown",
   "id": "3e8995c6",
   "metadata": {},
   "source": [
    "2. Currently, the `names` and `insurance_costs` lists are separate, but we want each insurance cost to be paired with a name.\n",
    "\n",
    "   Create a new variable called `medical_records` that combines `insurance_costs` and `names` into a list using the `zip()` function.\n",
    "   \n",
    "   The list should have the following structure:\n",
    "   \n",
    "   ```py\n",
    "   [(cost_0, name_0), (cost_1, name_1), (cost_2, name_2), ...]\n",
    "   ```"
   ]
  },
  {
   "cell_type": "code",
   "execution_count": 2,
   "id": "e63ae8e7",
   "metadata": {},
   "outputs": [],
   "source": [
    "medical_records = list(zip(insurance_costs, names))"
   ]
  },
  {
   "cell_type": "markdown",
   "id": "c55bed8e",
   "metadata": {},
   "source": [
    "3. Print out `medical_records` below, and make sure the output is what you expected."
   ]
  },
  {
   "cell_type": "code",
   "execution_count": 3,
   "id": "3f46631e",
   "metadata": {},
   "outputs": [
    {
     "name": "stdout",
     "output_type": "stream",
     "text": [
      "[(13262.0, 'Mohamed'), (4816.0, 'Sara'), (6839.0, 'Xia'), (5054.0, 'Paul'), (14724.0, 'Valentina'), (5360.0, 'Jide'), (7640.0, 'Aaron'), (6072.0, 'Emily'), (2750.0, 'Nikita'), (12064.0, 'Paul'), (8320.0, 'Priscilla')]\n"
     ]
    }
   ],
   "source": [
    "print(medical_records)"
   ]
  },
  {
   "cell_type": "markdown",
   "id": "c7526357",
   "metadata": {},
   "source": [
    "4. Let's explore our medical data.\n",
    "\n",
    "   We want to see how many medical records we are dealing with. Create a variable called `num_medical_records` that stores the length of `medical_records`."
   ]
  },
  {
   "cell_type": "code",
   "execution_count": 5,
   "id": "b1558949",
   "metadata": {},
   "outputs": [],
   "source": [
    "num_medical_records = len(medical_records)"
   ]
  },
  {
   "cell_type": "markdown",
   "id": "6362dbf0",
   "metadata": {},
   "source": [
    "5. Print `num_medical_records` with the following message:\n",
    "\n",
    "   ```\n",
    "   There are {number of medical records} medical records.\n",
    "   ```"
   ]
  },
  {
   "cell_type": "code",
   "execution_count": 6,
   "id": "fbdc5495",
   "metadata": {},
   "outputs": [
    {
     "name": "stdout",
     "output_type": "stream",
     "text": [
      "There are 11 medical records.\n"
     ]
    }
   ],
   "source": [
    "print(f\"There are {num_medical_records} medical records.\")"
   ]
  },
  {
   "cell_type": "markdown",
   "id": "5f386c4f",
   "metadata": {},
   "source": [
    "## Selecting List Elements"
   ]
  },
  {
   "cell_type": "markdown",
   "id": "89b7ec6c",
   "metadata": {},
   "source": [
    "6. Select the first medical record in `medical_records`, and save it to a variable called `first_medical_record`."
   ]
  },
  {
   "cell_type": "code",
   "execution_count": 9,
   "id": "53b88931",
   "metadata": {},
   "outputs": [],
   "source": [
    "first_medical_record = medical_records[0]"
   ]
  },
  {
   "cell_type": "markdown",
   "id": "11f4431d",
   "metadata": {},
   "source": [
    "7. Print `first_medical_record` with the following message:\n",
    "\n",
    "   ```\n",
    "   Here is the first medical record: {first medical record}\n",
    "   ```"
   ]
  },
  {
   "cell_type": "code",
   "execution_count": 10,
   "id": "762a3af7",
   "metadata": {},
   "outputs": [
    {
     "name": "stdout",
     "output_type": "stream",
     "text": [
      "Here is the first medical record: (13262.0, 'Mohamed')\n"
     ]
    }
   ],
   "source": [
    "print(f\"Here is the first medical record: {first_medical_record}\")"
   ]
  },
  {
   "cell_type": "markdown",
   "id": "61dc8ab3",
   "metadata": {},
   "source": [
    "## Sorting Lists"
   ]
  },
  {
   "cell_type": "markdown",
   "id": "555162db",
   "metadata": {},
   "source": [
    "8. Sort `medical_records` so that the individuals with the lowest insurance costs appear at the start of the list.\n",
    "\n",
    "   Print the sorted `medical_records` with the following message:\n",
    "   \n",
    "   ```\n",
    "   Here are the medical records sorted by insurance cost: {sorted list}\n",
    "   ```"
   ]
  },
  {
   "cell_type": "code",
   "execution_count": 11,
   "id": "8e23efbb",
   "metadata": {},
   "outputs": [
    {
     "name": "stdout",
     "output_type": "stream",
     "text": [
      "Here are the medical records sorted by insurance cost: [(2750.0, 'Nikita'), (4816.0, 'Sara'), (5054.0, 'Paul'), (5360.0, 'Jide'), (6072.0, 'Emily'), (6839.0, 'Xia'), (7640.0, 'Aaron'), (8320.0, 'Priscilla'), (12064.0, 'Paul'), (13262.0, 'Mohamed'), (14724.0, 'Valentina')]\n"
     ]
    }
   ],
   "source": [
    "medical_records.sort()\n",
    "print(\"Here are the medical records sorted by insurance cost: \" + str(medical_records))"
   ]
  },
  {
   "cell_type": "markdown",
   "id": "8e3b29f8",
   "metadata": {},
   "source": [
    "## Slicing Lists"
   ]
  },
  {
   "cell_type": "markdown",
   "id": "2586554b",
   "metadata": {},
   "source": [
    "9. Let's look at the three cheapest insurance costs in our medical records.\n",
    "\n",
    "   Slice the `medical_records` list, and store the three cheapest insurance costs in a list called `cheapest_three`."
   ]
  },
  {
   "cell_type": "code",
   "execution_count": 13,
   "id": "4155c88f",
   "metadata": {},
   "outputs": [],
   "source": [
    "cheapest_three = medical_records[0:3]"
   ]
  },
  {
   "cell_type": "markdown",
   "id": "8c06c9f3",
   "metadata": {},
   "source": [
    "10. Print `cheapest_three` with the following message:\n",
    "\n",
    "    ```py\n",
    "    Here are the three cheapest insurance costs in our medical records: {cheapest three}\n",
    "    ```"
   ]
  },
  {
   "cell_type": "code",
   "execution_count": 14,
   "id": "1b9284dc",
   "metadata": {},
   "outputs": [
    {
     "name": "stdout",
     "output_type": "stream",
     "text": [
      "Here are the three cheapest insurance costs in our medical records: [(2750.0, 'Nikita'), (4816.0, 'Sara'), (5054.0, 'Paul')]\n"
     ]
    }
   ],
   "source": [
    "print(f\"Here are the three cheapest insurance costs in our medical records: {cheapest_three}\")"
   ]
  },
  {
   "cell_type": "markdown",
   "id": "5cb6dd31",
   "metadata": {},
   "source": [
    "11. Let's look at the three most expensive insurance costs in our medical records.\n",
    "\n",
    "    Slice the `medical_records` list, and store the three most expensive insurance costs in a list called `priciest_three`."
   ]
  },
  {
   "cell_type": "code",
   "execution_count": 15,
   "id": "017e1171",
   "metadata": {},
   "outputs": [],
   "source": [
    "priciest_three = medical_records[-3:]"
   ]
  },
  {
   "cell_type": "markdown",
   "id": "80054480",
   "metadata": {},
   "source": [
    "12. Print `priciest_three` with the following message:\n",
    "\n",
    "    ```\n",
    "    Here are the three most expensive insurance costs in our medical records: {priciest three}\n",
    "    ```"
   ]
  },
  {
   "cell_type": "code",
   "execution_count": 16,
   "id": "0ced2fb2",
   "metadata": {},
   "outputs": [
    {
     "name": "stdout",
     "output_type": "stream",
     "text": [
      "Here are the three most expensive insurance costs in our medical records: [(12064.0, 'Paul'), (13262.0, 'Mohamed'), (14724.0, 'Valentina')]\n"
     ]
    }
   ],
   "source": [
    "print(f\"Here are the three most expensive insurance costs in our medical records: {priciest_three}\")"
   ]
  },
  {
   "cell_type": "markdown",
   "id": "d0ccbf5e",
   "metadata": {},
   "source": [
    "## Counting Elements in a List"
   ]
  },
  {
   "cell_type": "markdown",
   "id": "8e0c2d7b",
   "metadata": {},
   "source": [
    "13. Some individuals in our medical records have the same name. For example, the name \"Paul\" shows up twice.\n",
    "\n",
    "    Count the number of occurrences of \"Paul\" in the `names` list, and store the result in a variable called `occurrences_paul`.\n",
    "    \n",
    "    Print `occurrences_paul` with the following message:\n",
    "    \n",
    "    ```\n",
    "    There are {occurrences Paul} individuals with the name Paul in our medical records.\n",
    "    ```"
   ]
  },
  {
   "cell_type": "code",
   "execution_count": 17,
   "id": "1527cbb8",
   "metadata": {},
   "outputs": [
    {
     "name": "stdout",
     "output_type": "stream",
     "text": [
      "There are 2 individuals with the name Paul in our medical records.\n"
     ]
    }
   ],
   "source": [
    "occurrences_paul = names.count(\"Paul\")\n",
    "print(f\"There are {occurrences_paul} individuals with the name Paul in our medical records.\")"
   ]
  }
 ],
 "metadata": {
  "kernelspec": {
   "display_name": "Python 3.10.6 64-bit",
   "language": "python",
   "name": "python3"
  },
  "language_info": {
   "codemirror_mode": {
    "name": "ipython",
    "version": 3
   },
   "file_extension": ".py",
   "mimetype": "text/x-python",
   "name": "python",
   "nbconvert_exporter": "python",
   "pygments_lexer": "ipython3",
   "version": "3.10.6"
  },
  "vscode": {
   "interpreter": {
    "hash": "916dbcbb3f70747c44a77c7bcd40155683ae19c65e1c03b4aa3499c5328201f1"
   }
  }
 },
 "nbformat": 4,
 "nbformat_minor": 5
}
